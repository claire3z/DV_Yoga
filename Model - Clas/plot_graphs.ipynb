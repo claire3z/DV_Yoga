{
 "cells": [
  {
   "cell_type": "code",
   "execution_count": 27,
   "metadata": {},
   "outputs": [],
   "source": [
    "import matplotlib\n",
    "import matplotlib.pyplot as plt\n",
    "import pickle\n",
    "from os import makedirs"
   ]
  },
  {
   "cell_type": "code",
   "execution_count": 30,
   "metadata": {},
   "outputs": [],
   "source": [
    "def plot_history(historyList, name):\n",
    "    try:\n",
    "        makedirs('./plots')\n",
    "    except Exception as e:\n",
    "        None\n",
    "    legendList = []\n",
    "    plt.rc('xtick',labelsize=15)\n",
    "    plt.rc('ytick',labelsize=15)\n",
    "    fig = plt.figure()\n",
    "    plt.xlabel('Epochs', fontsize=30)\n",
    "    plt.ylabel('Acc', fontsize=30)\n",
    "    #fig.set_title('Validation Accuracy')\n",
    "    for i in range(len(historyList)):\n",
    "        plt.plot(historyList[i])\n",
    "        legendList.append('label ' + str(i+1))\n",
    "        plt.legend(legendList, loc='upper left', fontsize=15)\n",
    "    fig.set_figheight(7.2*2)\n",
    "    fig.set_figwidth(15)\n",
    "    fig.savefig(\"./plots/\" + name + \".png\")\n",
    "    plt.close(fig)"
   ]
  }
 ],
 "metadata": {
  "kernelspec": {
   "display_name": "Python 3",
   "language": "python",
   "name": "python3"
  },
  "language_info": {
   "codemirror_mode": {
    "name": "ipython",
    "version": 3
   },
   "file_extension": ".py",
   "mimetype": "text/x-python",
   "name": "python",
   "nbconvert_exporter": "python",
   "pygments_lexer": "ipython3",
   "version": "3.7.6"
  }
 },
 "nbformat": 4,
 "nbformat_minor": 4
}
